{
 "cells": [
  {
   "cell_type": "code",
   "execution_count": 1,
   "metadata": {},
   "outputs": [],
   "source": [
    "# imports"
   ]
  },
  {
   "cell_type": "code",
   "execution_count": 2,
   "metadata": {},
   "outputs": [],
   "source": [
    "def gen_2_dice_product():\n",
    "    for die_1 in range(1, 7):\n",
    "        for die_2 in range(1, 7):\n",
    "            yield (die_1, die_2)\n",
    "\n",
    "# create function to unpack dice moving\n",
    "def compute_frequencies_rolling_outcomes():\n",
    "    outcome_frequencies = {}\n",
    "    for first_die, second_die in gen_2_dice_product():\n",
    "        key = \"doubles\" if first_die == second_die else first_die + second_die\n",
    "        if outcome_frequencies.get(key):\n",
    "            outcome_frequencies[key] += 1\n",
    "        else:\n",
    "            outcome_frequencies[key] = 1\n",
    "    return outcome_frequencies    "
   ]
  },
  {
   "cell_type": "code",
   "execution_count": 3,
   "metadata": {},
   "outputs": [
    {
     "data": {
      "text/plain": [
       "{'doubles': 6, 3: 2, 4: 2, 5: 4, 6: 4, 7: 6, 8: 4, 9: 4, 10: 2, 11: 2}"
      ]
     },
     "execution_count": 3,
     "metadata": {},
     "output_type": "execute_result"
    }
   ],
   "source": [
    "compute_frequencies_rolling_outcomes()"
   ]
  },
  {
   "cell_type": "code",
   "execution_count": 7,
   "metadata": {},
   "outputs": [],
   "source": [
    "def probabilities_multi_die_outcomes(dice):\n",
    "    outcome_probabilities = {}\n",
    "\n",
    "    def add_outcome(outcome, probability):\n",
    "        nonlocal outcome_probabilities\n",
    "        if outcome_probabilities.get(outcome) is None:\n",
    "            outcome_probabilities[outcome] = 0\n",
    "        outcome_probabilities[outcome] += probability\n",
    "\n",
    "\n",
    "    for first_die, second_die in gen_2_dice_product():\n",
    "        dice_total = first_die + second_die\n",
    "        if first_die == second_die:\n",
    "            # base base 2\n",
    "            if dice == 1:\n",
    "                add_outcome(\"jail\", 1/36)\n",
    "            # recursive case\n",
    "            else:\n",
    "                next_die_outcomes = probabilities_multi_die_outcomes(dice-1)\n",
    "                for outcome, probability in next_die_outcomes.items():\n",
    "                    if outcome == \"jail\":\n",
    "                        new_outcome = \"jail\"\n",
    "                    else:\n",
    "                        new_outcome = outcome + dice_total\n",
    "\n",
    "                    new_probability = probability / 36\n",
    "                \n",
    "                    add_outcome(new_outcome, new_probability)\n",
    "        # base case 1\n",
    "        else:\n",
    "            add_outcome(dice_total, 1/36)\n",
    "\n",
    "    return outcome_probabilities    "
   ]
  },
  {
   "cell_type": "code",
   "execution_count": 14,
   "metadata": {},
   "outputs": [
    {
     "data": {
      "text/plain": [
       "{'jail': 0.16666666666666669,\n",
       " 3: 0.05555555555555555,\n",
       " 4: 0.05555555555555555,\n",
       " 5: 0.1111111111111111,\n",
       " 6: 0.1111111111111111,\n",
       " 7: 0.16666666666666669,\n",
       " 8: 0.1111111111111111,\n",
       " 9: 0.1111111111111111,\n",
       " 10: 0.05555555555555555,\n",
       " 11: 0.05555555555555555}"
      ]
     },
     "execution_count": 14,
     "metadata": {},
     "output_type": "execute_result"
    }
   ],
   "source": [
    "probabilities_multi_die_outcomes(1)"
   ]
  },
  {
   "cell_type": "code",
   "execution_count": 16,
   "metadata": {},
   "outputs": [
    {
     "data": {
      "text/plain": [
       "{'jail': 0.00462962962962963,\n",
       " 7: 0.17133916323731135,\n",
       " 8: 0.11578360768175582,\n",
       " 9: 0.12054183813443073,\n",
       " 10: 0.06344307270233196,\n",
       " 11: 0.06832990397805212,\n",
       " 12: 0.009645061728395061,\n",
       " 13: 0.014660493827160493,\n",
       " 14: 0.009902263374485597,\n",
       " 15: 0.015046296296296295,\n",
       " 5: 0.11265432098765431,\n",
       " 6: 0.11265432098765431,\n",
       " 16: 0.010159465020576132,\n",
       " 17: 0.013888888888888888,\n",
       " 18: 0.008873456790123456,\n",
       " 19: 0.011102537722908092,\n",
       " 20: 0.005958504801097394,\n",
       " 21: 0.006601508916323731,\n",
       " 22: 0.0028720850480109736,\n",
       " 23: 0.003386488340192044,\n",
       " 24: 0.0011574074074074071,\n",
       " 25: 0.0015432098765432098,\n",
       " 3: 0.05555555555555555,\n",
       " 4: 0.05555555555555555,\n",
       " 26: 0.0009002057613168722,\n",
       " 27: 0.0011574074074074073,\n",
       " 28: 0.0006430041152263373,\n",
       " 29: 0.0007716049382716049,\n",
       " 30: 0.00038580246913580245,\n",
       " 31: 0.00042866941015089156,\n",
       " 32: 0.00017146776406035664,\n",
       " 33: 0.00017146776406035664,\n",
       " 34: 4.286694101508916e-05,\n",
       " 35: 4.286694101508916e-05}"
      ]
     },
     "execution_count": 16,
     "metadata": {},
     "output_type": "execute_result"
    }
   ],
   "source": [
    "probabilities_multi_die_outcomes(3)"
   ]
  },
  {
   "cell_type": "code",
   "execution_count": 18,
   "metadata": {},
   "outputs": [
    {
     "data": {
      "text/plain": [
       "[(3, 0.05555555555555555),\n",
       " (4, 0.05555555555555555),\n",
       " (5, 0.11265432098765431),\n",
       " (6, 0.11265432098765431),\n",
       " (7, 0.17133916323731135),\n",
       " (8, 0.11578360768175582),\n",
       " (9, 0.12054183813443073),\n",
       " (10, 0.06344307270233196),\n",
       " (11, 0.06832990397805212),\n",
       " (12, 0.009645061728395061),\n",
       " (13, 0.014660493827160493),\n",
       " (14, 0.009902263374485597),\n",
       " (15, 0.015046296296296295),\n",
       " (16, 0.010159465020576132),\n",
       " (17, 0.013888888888888888),\n",
       " (18, 0.008873456790123456),\n",
       " (19, 0.011102537722908092),\n",
       " (20, 0.005958504801097394),\n",
       " (21, 0.006601508916323731),\n",
       " (22, 0.0028720850480109736),\n",
       " (23, 0.003386488340192044),\n",
       " (24, 0.0011574074074074071),\n",
       " (25, 0.0015432098765432098),\n",
       " (26, 0.0009002057613168722),\n",
       " (27, 0.0011574074074074073),\n",
       " (28, 0.0006430041152263373),\n",
       " (29, 0.0007716049382716049),\n",
       " (30, 0.00038580246913580245),\n",
       " (31, 0.00042866941015089156),\n",
       " (32, 0.00017146776406035664),\n",
       " (33, 0.00017146776406035664),\n",
       " (34, 4.286694101508916e-05),\n",
       " (35, 4.286694101508916e-05),\n",
       " ('jail', 0.00462962962962963)]"
      ]
     },
     "execution_count": 18,
     "metadata": {},
     "output_type": "execute_result"
    }
   ],
   "source": [
    "sorted(\n",
    "    probabilities_multi_die_outcomes(3).items(),\n",
    "    key = lambda item: 100 if item[0] == \"jail\" else item[0]\n",
    ")"
   ]
  },
  {
   "cell_type": "code",
   "execution_count": 23,
   "metadata": {},
   "outputs": [],
   "source": [
    "for dice in range(1, 4):\n",
    "    outcome_probabilities = probabilities_multi_die_outcomes(dice)\n",
    "    total_probability = sum(outcome_probabilities.values())\n",
    "    assert round(total_probability, ndigits=7) == 1\n"
   ]
  },
  {
   "cell_type": "code",
   "execution_count": null,
   "metadata": {},
   "outputs": [],
   "source": [
    "# create movement matrix by dice"
   ]
  },
  {
   "cell_type": "code",
   "execution_count": null,
   "metadata": {},
   "outputs": [],
   "source": [
    "# create matrix to account for go to jail"
   ]
  },
  {
   "cell_type": "code",
   "execution_count": null,
   "metadata": {},
   "outputs": [],
   "source": [
    "# create matrix to account for chance cards"
   ]
  },
  {
   "cell_type": "code",
   "execution_count": null,
   "metadata": {},
   "outputs": [],
   "source": [
    "# create transition matrix"
   ]
  }
 ],
 "metadata": {
  "kernelspec": {
   "display_name": "Python 3",
   "language": "python",
   "name": "python3"
  },
  "language_info": {
   "codemirror_mode": {
    "name": "ipython",
    "version": 3
   },
   "file_extension": ".py",
   "mimetype": "text/x-python",
   "name": "python",
   "nbconvert_exporter": "python",
   "pygments_lexer": "ipython3",
   "version": "3.11.7"
  }
 },
 "nbformat": 4,
 "nbformat_minor": 2
}
